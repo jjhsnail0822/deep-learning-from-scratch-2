{
  "nbformat": 4,
  "nbformat_minor": 0,
  "metadata": {
    "colab": {
      "name": "1-3.ipynb",
      "provenance": [],
      "mount_file_id": "12BvG9PPQe-N17YF0q94YvMq-uMgDQEtc",
      "authorship_tag": "ABX9TyNkPJdXYcmXsABtPuxl5Lhd",
      "include_colab_link": true
    },
    "kernelspec": {
      "name": "python3",
      "display_name": "Python 3"
    },
    "language_info": {
      "name": "python"
    }
  },
  "cells": [
    {
      "cell_type": "markdown",
      "metadata": {
        "id": "view-in-github",
        "colab_type": "text"
      },
      "source": [
        "<a href=\"https://colab.research.google.com/github/jjhsnail0822/deep-learning-from-scratch-2/blob/master/ch01/1-3.ipynb\" target=\"_parent\"><img src=\"https://colab.research.google.com/assets/colab-badge.svg\" alt=\"Open In Colab\"/></a>"
      ]
    },
    {
      "cell_type": "code",
      "metadata": {
        "colab": {
          "base_uri": "https://localhost:8080/"
        },
        "id": "c4Pk5Dv9DCup",
        "outputId": "aa04d9f8-ac14-4fbb-ea62-419a37710bae"
      },
      "source": [
        "# 1.3.4 계산 그래프\n",
        "\n",
        "import numpy as np\n",
        "D,N=8,7\n",
        "x=np.random.randn(1,D)\n",
        "y=np.repeat(x,N,axis=0)\n",
        "dy=np.random.randn(N,D)\n",
        "dx=np.sum(dy,axis=0,keepdims=True)\n",
        "dx"
      ],
      "execution_count": null,
      "outputs": [
        {
          "output_type": "execute_result",
          "data": {
            "text/plain": [
              "array([[ 0.13634917,  0.59401081,  1.74548135,  2.45952984,  1.05089726,\n",
              "        -3.89029179,  1.26005918,  5.36167877]])"
            ]
          },
          "metadata": {
            "tags": []
          },
          "execution_count": 3
        }
      ]
    },
    {
      "cell_type": "code",
      "metadata": {
        "colab": {
          "base_uri": "https://localhost:8080/"
        },
        "id": "UGhOJofzD9YO",
        "outputId": "3945cb2e-f183-4bac-f9b8-b233aec1f5e6"
      },
      "source": [
        "D,N=8,7\n",
        "x=np.random.randn(N,D)\n",
        "y=np.sum(x,axis=0,keepdims=True)\n",
        "\n",
        "dy=np.random.randn(1,D)\n",
        "dx=np.repeat(dy,N,axis=0)\n",
        "dx"
      ],
      "execution_count": null,
      "outputs": [
        {
          "output_type": "execute_result",
          "data": {
            "text/plain": [
              "array([[ 2.0856273 ,  1.05368364, -0.25150776,  0.30376875,  0.43311978,\n",
              "        -0.70290795,  1.68132817,  0.45546275],\n",
              "       [ 2.0856273 ,  1.05368364, -0.25150776,  0.30376875,  0.43311978,\n",
              "        -0.70290795,  1.68132817,  0.45546275],\n",
              "       [ 2.0856273 ,  1.05368364, -0.25150776,  0.30376875,  0.43311978,\n",
              "        -0.70290795,  1.68132817,  0.45546275],\n",
              "       [ 2.0856273 ,  1.05368364, -0.25150776,  0.30376875,  0.43311978,\n",
              "        -0.70290795,  1.68132817,  0.45546275],\n",
              "       [ 2.0856273 ,  1.05368364, -0.25150776,  0.30376875,  0.43311978,\n",
              "        -0.70290795,  1.68132817,  0.45546275],\n",
              "       [ 2.0856273 ,  1.05368364, -0.25150776,  0.30376875,  0.43311978,\n",
              "        -0.70290795,  1.68132817,  0.45546275],\n",
              "       [ 2.0856273 ,  1.05368364, -0.25150776,  0.30376875,  0.43311978,\n",
              "        -0.70290795,  1.68132817,  0.45546275]])"
            ]
          },
          "metadata": {
            "tags": []
          },
          "execution_count": 5
        }
      ]
    },
    {
      "cell_type": "code",
      "metadata": {
        "id": "_0vPzSfpE070"
      },
      "source": [
        "class MatMul:\n",
        "  def __init__(self, W):\n",
        "    self.params=[W]\n",
        "    self.grads=[np.zeros_like(W)]\n",
        "    self.x=None\n",
        "  \n",
        "  def forward(self,x):\n",
        "    W, = self.params\n",
        "    out=np.matmul(x,W)\n",
        "    self.x=x\n",
        "    return out\n",
        "\n",
        "  def backward(self, dout):\n",
        "    W, = self.params\n",
        "    dx=np.matmul(dout,W.T)\n",
        "    dW=np.matmul(self.x.T,dout)\n",
        "    self.grads[0][...]=dW\n",
        "    return dx"
      ],
      "execution_count": null,
      "outputs": []
    },
    {
      "cell_type": "code",
      "metadata": {
        "id": "FFdeqFODHU-R"
      },
      "source": [
        "# 1.3.5 기울기 도출과 역전파 구현\n",
        "\n",
        "class Sigmoid:\n",
        "  def __init__(self):\n",
        "    self.params, self.grads = [], []\n",
        "    self.out=None\n",
        "\n",
        "  def forward(self, x):\n",
        "    out=1/(1+np.exp(-x))\n",
        "    self.out=out\n",
        "    return out\n",
        "\n",
        "  def backward(self, dout):\n",
        "    dx=dout*(1.0-self.out)*self.out\n",
        "    return dx"
      ],
      "execution_count": null,
      "outputs": []
    },
    {
      "cell_type": "code",
      "metadata": {
        "id": "Wlkvenk_IB5i"
      },
      "source": [
        "class Affine:\n",
        "  def __init__(self, W, b):\n",
        "    self.params=[W,b]\n",
        "    self.grads=[np.zeros_like(W),np.zeros_like(b)]\n",
        "    self.x=None\n",
        "\n",
        "  def forward(self,x):\n",
        "    W,b=self.params\n",
        "    out=np.matmul(x,W)+b\n",
        "    self.x=x\n",
        "    return out\n",
        "\n",
        "  def backward(self,dout):\n",
        "    W,b=self.params\n",
        "    dx=np.matmul(dout,W.T)\n",
        "    dW=np.matmul(self.x.T,dout)\n",
        "    db=np.sum(dout,axis=0)\n",
        "\n",
        "    self.grads[0][...]=dW\n",
        "    self.grads[1][...]=db\n",
        "    return dx"
      ],
      "execution_count": null,
      "outputs": []
    },
    {
      "cell_type": "code",
      "metadata": {
        "id": "jd8gmtUxImUI"
      },
      "source": [
        "# 1.3.6 가중치 갱신\n",
        "\n",
        "class SGD:\n",
        "  def __init__(self, lr=0.01):\n",
        "    self.lr=lr\n",
        "  \n",
        "  def update(self, params, grads):\n",
        "    for i in range(len(params)):\n",
        "      params[i] -= self.lr * grads[i]"
      ],
      "execution_count": null,
      "outputs": []
    }
  ]
}