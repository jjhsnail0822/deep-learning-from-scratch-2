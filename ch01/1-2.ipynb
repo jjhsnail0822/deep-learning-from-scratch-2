{
  "nbformat": 4,
  "nbformat_minor": 0,
  "metadata": {
    "colab": {
      "name": "1-2.ipynb",
      "provenance": [],
      "authorship_tag": "ABX9TyP7A7/NkCNH/FfjVfIR9fwp",
      "include_colab_link": true
    },
    "kernelspec": {
      "name": "python3",
      "display_name": "Python 3"
    },
    "language_info": {
      "name": "python"
    }
  },
  "cells": [
    {
      "cell_type": "markdown",
      "metadata": {
        "id": "view-in-github",
        "colab_type": "text"
      },
      "source": [
        "<a href=\"https://colab.research.google.com/github/jjhsnail0822/deep-learning-from-scratch-2/blob/master/ch01/1-2.ipynb\" target=\"_parent\"><img src=\"https://colab.research.google.com/assets/colab-badge.svg\" alt=\"Open In Colab\"/></a>"
      ]
    },
    {
      "cell_type": "code",
      "metadata": {
        "id": "XNxe9qRp7zSk"
      },
      "source": [
        "# 1.2.1 신경망 추론 전체 그림\n",
        "\n",
        "import numpy as np\n",
        "\n",
        "def sigmoid(x):\n",
        "  return 1/(1+np.exp(-x))\n",
        "\n",
        "x=np.random.randn(10,2)\n",
        "W1=np.random.randn(2,4)\n",
        "b1=np.random.randn(4)\n",
        "W2=np.random.randn(4,3)\n",
        "b2=np.random.randn(3)\n",
        "\n",
        "h=np.matmul(x,W1)+b1\n",
        "a=sigmoid(h)\n",
        "s=np.matmul(a,W2)+b2"
      ],
      "execution_count": null,
      "outputs": []
    },
    {
      "cell_type": "code",
      "metadata": {
        "colab": {
          "base_uri": "https://localhost:8080/"
        },
        "id": "gXY9K0_s_ebC",
        "outputId": "75ec1e78-de36-468a-fbfb-2c1abc6529fc"
      },
      "source": [
        "# 1.2.2 계층으로 클래스화 및 순전파 구현\n",
        "\n",
        "class Sigmoid:\n",
        "  def __init__(self):\n",
        "    self.params=[]\n",
        "  \n",
        "  def forward(self, x):\n",
        "    return 1/(1+np.exp(-x))\n",
        "\n",
        "class Affine:\n",
        "  def __init__(self, W, b):\n",
        "    self.params=[W,b]\n",
        "\n",
        "  def forward(self, x):\n",
        "    W,b=self.params\n",
        "    out=np.matmul(x,W)+b\n",
        "    return out\n",
        "\n",
        "class TwoLayerNet:\n",
        "  def __init__(self, input_size, hidden_size, output_size):\n",
        "    I,H,O=input_size,hidden_size,output_size\n",
        "\n",
        "    W1=np.random.randn(I,H)\n",
        "    b1=np.random.randn(H)\n",
        "    W2=np.random.randn(H,O)\n",
        "    b2=np.random.randn(O)\n",
        "\n",
        "    self.layers=[\n",
        "      Affine(W1,b1),\n",
        "      Sigmoid(),\n",
        "      Affine(W2,b2)\n",
        "    ]\n",
        "\n",
        "    self.params=[]\n",
        "    for layer in self.layers:\n",
        "      self.params+=layer.params\n",
        "    \n",
        "  def predict(self, x):\n",
        "    for layer in self.layers:\n",
        "      x=layer.forward(x)\n",
        "    return x\n",
        "\n",
        "x=np.random.randn(10,2)\n",
        "model=TwoLayerNet(2,4,3)\n",
        "s=model.predict(x)\n",
        "s"
      ],
      "execution_count": null,
      "outputs": [
        {
          "output_type": "execute_result",
          "data": {
            "text/plain": [
              "array([[-1.94291758,  2.8090288 ,  0.24351496],\n",
              "       [-2.2479728 ,  2.76925065,  0.01521162],\n",
              "       [-1.68034386,  2.63947764,  0.33944312],\n",
              "       [-1.35263699,  2.76479737,  0.63739941],\n",
              "       [-1.1819054 ,  2.68293879,  0.74718224],\n",
              "       [-2.16034947,  2.76215434,  0.07167617],\n",
              "       [-2.04871716,  2.83439149,  0.16567683],\n",
              "       [-0.87697303,  2.85961736,  1.11536422],\n",
              "       [-2.0945885 ,  2.56639057, -0.06016448],\n",
              "       [-1.62536141,  2.72256109,  0.41982304]])"
            ]
          },
          "metadata": {
            "tags": []
          },
          "execution_count": 7
        }
      ]
    }
  ]
}